{
  "nbformat": 4,
  "nbformat_minor": 0,
  "metadata": {
    "colab": {
      "provenance": [],
      "authorship_tag": "ABX9TyOYZJRKmxfHWtkKPgdQX1u5",
      "include_colab_link": true
    },
    "kernelspec": {
      "name": "python3",
      "display_name": "Python 3"
    },
    "language_info": {
      "name": "python"
    }
  },
  "cells": [
    {
      "cell_type": "markdown",
      "metadata": {
        "id": "view-in-github",
        "colab_type": "text"
      },
      "source": [
        "<a href=\"https://colab.research.google.com/github/apexro45/WEEK-3/blob/main/WEEK3_TASK2.ipynb\" target=\"_parent\"><img src=\"https://colab.research.google.com/assets/colab-badge.svg\" alt=\"Open In Colab\"/></a>"
      ]
    },
    {
      "cell_type": "code",
      "execution_count": 5,
      "metadata": {
        "id": "4-ZHNHwEZavM"
      },
      "outputs": [],
      "source": [
        "import pandas as pd\n",
        "import numpy as np\n",
        "import io"
      ]
    },
    {
      "cell_type": "code",
      "source": [
        "df = pd.read_csv(\"/content/chipotle.tsv\", sep='\\t')"
      ],
      "metadata": {
        "id": "owkn9T9_ktsU"
      },
      "execution_count": 15,
      "outputs": []
    },
    {
      "cell_type": "code",
      "source": [
        "df"
      ],
      "metadata": {
        "colab": {
          "base_uri": "https://localhost:8080/",
          "height": 687
        },
        "id": "s6VrcW3yk_VF",
        "outputId": "7ac4da02-0a9f-4c53-efcc-2396ea4f36bf"
      },
      "execution_count": 17,
      "outputs": [
        {
          "output_type": "execute_result",
          "data": {
            "text/plain": [
              "      order_id  quantity                              item_name  \\\n",
              "0            1         1           Chips and Fresh Tomato Salsa   \n",
              "1            1         1                                   Izze   \n",
              "2            1         1                       Nantucket Nectar   \n",
              "3            1         1  Chips and Tomatillo-Green Chili Salsa   \n",
              "4            2         2                           Chicken Bowl   \n",
              "...        ...       ...                                    ...   \n",
              "4617      1833         1                          Steak Burrito   \n",
              "4618      1833         1                          Steak Burrito   \n",
              "4619      1834         1                     Chicken Salad Bowl   \n",
              "4620      1834         1                     Chicken Salad Bowl   \n",
              "4621      1834         1                     Chicken Salad Bowl   \n",
              "\n",
              "                                     choice_description item_price  \n",
              "0                                                   NaN     $2.39   \n",
              "1                                          [Clementine]     $3.39   \n",
              "2                                               [Apple]     $3.39   \n",
              "3                                                   NaN     $2.39   \n",
              "4     [Tomatillo-Red Chili Salsa (Hot), [Black Beans...    $16.98   \n",
              "...                                                 ...        ...  \n",
              "4617  [Fresh Tomato Salsa, [Rice, Black Beans, Sour ...    $11.75   \n",
              "4618  [Fresh Tomato Salsa, [Rice, Sour Cream, Cheese...    $11.75   \n",
              "4619  [Fresh Tomato Salsa, [Fajita Vegetables, Pinto...    $11.25   \n",
              "4620  [Fresh Tomato Salsa, [Fajita Vegetables, Lettu...     $8.75   \n",
              "4621  [Fresh Tomato Salsa, [Fajita Vegetables, Pinto...     $8.75   \n",
              "\n",
              "[4622 rows x 5 columns]"
            ],
            "text/html": [
              "\n",
              "  <div id=\"df-cb28eae6-1eeb-4c68-b8b3-853479e90a8a\" class=\"colab-df-container\">\n",
              "    <div>\n",
              "<style scoped>\n",
              "    .dataframe tbody tr th:only-of-type {\n",
              "        vertical-align: middle;\n",
              "    }\n",
              "\n",
              "    .dataframe tbody tr th {\n",
              "        vertical-align: top;\n",
              "    }\n",
              "\n",
              "    .dataframe thead th {\n",
              "        text-align: right;\n",
              "    }\n",
              "</style>\n",
              "<table border=\"1\" class=\"dataframe\">\n",
              "  <thead>\n",
              "    <tr style=\"text-align: right;\">\n",
              "      <th></th>\n",
              "      <th>order_id</th>\n",
              "      <th>quantity</th>\n",
              "      <th>item_name</th>\n",
              "      <th>choice_description</th>\n",
              "      <th>item_price</th>\n",
              "    </tr>\n",
              "  </thead>\n",
              "  <tbody>\n",
              "    <tr>\n",
              "      <th>0</th>\n",
              "      <td>1</td>\n",
              "      <td>1</td>\n",
              "      <td>Chips and Fresh Tomato Salsa</td>\n",
              "      <td>NaN</td>\n",
              "      <td>$2.39</td>\n",
              "    </tr>\n",
              "    <tr>\n",
              "      <th>1</th>\n",
              "      <td>1</td>\n",
              "      <td>1</td>\n",
              "      <td>Izze</td>\n",
              "      <td>[Clementine]</td>\n",
              "      <td>$3.39</td>\n",
              "    </tr>\n",
              "    <tr>\n",
              "      <th>2</th>\n",
              "      <td>1</td>\n",
              "      <td>1</td>\n",
              "      <td>Nantucket Nectar</td>\n",
              "      <td>[Apple]</td>\n",
              "      <td>$3.39</td>\n",
              "    </tr>\n",
              "    <tr>\n",
              "      <th>3</th>\n",
              "      <td>1</td>\n",
              "      <td>1</td>\n",
              "      <td>Chips and Tomatillo-Green Chili Salsa</td>\n",
              "      <td>NaN</td>\n",
              "      <td>$2.39</td>\n",
              "    </tr>\n",
              "    <tr>\n",
              "      <th>4</th>\n",
              "      <td>2</td>\n",
              "      <td>2</td>\n",
              "      <td>Chicken Bowl</td>\n",
              "      <td>[Tomatillo-Red Chili Salsa (Hot), [Black Beans...</td>\n",
              "      <td>$16.98</td>\n",
              "    </tr>\n",
              "    <tr>\n",
              "      <th>...</th>\n",
              "      <td>...</td>\n",
              "      <td>...</td>\n",
              "      <td>...</td>\n",
              "      <td>...</td>\n",
              "      <td>...</td>\n",
              "    </tr>\n",
              "    <tr>\n",
              "      <th>4617</th>\n",
              "      <td>1833</td>\n",
              "      <td>1</td>\n",
              "      <td>Steak Burrito</td>\n",
              "      <td>[Fresh Tomato Salsa, [Rice, Black Beans, Sour ...</td>\n",
              "      <td>$11.75</td>\n",
              "    </tr>\n",
              "    <tr>\n",
              "      <th>4618</th>\n",
              "      <td>1833</td>\n",
              "      <td>1</td>\n",
              "      <td>Steak Burrito</td>\n",
              "      <td>[Fresh Tomato Salsa, [Rice, Sour Cream, Cheese...</td>\n",
              "      <td>$11.75</td>\n",
              "    </tr>\n",
              "    <tr>\n",
              "      <th>4619</th>\n",
              "      <td>1834</td>\n",
              "      <td>1</td>\n",
              "      <td>Chicken Salad Bowl</td>\n",
              "      <td>[Fresh Tomato Salsa, [Fajita Vegetables, Pinto...</td>\n",
              "      <td>$11.25</td>\n",
              "    </tr>\n",
              "    <tr>\n",
              "      <th>4620</th>\n",
              "      <td>1834</td>\n",
              "      <td>1</td>\n",
              "      <td>Chicken Salad Bowl</td>\n",
              "      <td>[Fresh Tomato Salsa, [Fajita Vegetables, Lettu...</td>\n",
              "      <td>$8.75</td>\n",
              "    </tr>\n",
              "    <tr>\n",
              "      <th>4621</th>\n",
              "      <td>1834</td>\n",
              "      <td>1</td>\n",
              "      <td>Chicken Salad Bowl</td>\n",
              "      <td>[Fresh Tomato Salsa, [Fajita Vegetables, Pinto...</td>\n",
              "      <td>$8.75</td>\n",
              "    </tr>\n",
              "  </tbody>\n",
              "</table>\n",
              "<p>4622 rows × 5 columns</p>\n",
              "</div>\n",
              "    <div class=\"colab-df-buttons\">\n",
              "\n",
              "  <div class=\"colab-df-container\">\n",
              "    <button class=\"colab-df-convert\" onclick=\"convertToInteractive('df-cb28eae6-1eeb-4c68-b8b3-853479e90a8a')\"\n",
              "            title=\"Convert this dataframe to an interactive table.\"\n",
              "            style=\"display:none;\">\n",
              "\n",
              "  <svg xmlns=\"http://www.w3.org/2000/svg\" height=\"24px\" viewBox=\"0 -960 960 960\">\n",
              "    <path d=\"M120-120v-720h720v720H120Zm60-500h600v-160H180v160Zm220 220h160v-160H400v160Zm0 220h160v-160H400v160ZM180-400h160v-160H180v160Zm440 0h160v-160H620v160ZM180-180h160v-160H180v160Zm440 0h160v-160H620v160Z\"/>\n",
              "  </svg>\n",
              "    </button>\n",
              "\n",
              "  <style>\n",
              "    .colab-df-container {\n",
              "      display:flex;\n",
              "      gap: 12px;\n",
              "    }\n",
              "\n",
              "    .colab-df-convert {\n",
              "      background-color: #E8F0FE;\n",
              "      border: none;\n",
              "      border-radius: 50%;\n",
              "      cursor: pointer;\n",
              "      display: none;\n",
              "      fill: #1967D2;\n",
              "      height: 32px;\n",
              "      padding: 0 0 0 0;\n",
              "      width: 32px;\n",
              "    }\n",
              "\n",
              "    .colab-df-convert:hover {\n",
              "      background-color: #E2EBFA;\n",
              "      box-shadow: 0px 1px 2px rgba(60, 64, 67, 0.3), 0px 1px 3px 1px rgba(60, 64, 67, 0.15);\n",
              "      fill: #174EA6;\n",
              "    }\n",
              "\n",
              "    .colab-df-buttons div {\n",
              "      margin-bottom: 4px;\n",
              "    }\n",
              "\n",
              "    [theme=dark] .colab-df-convert {\n",
              "      background-color: #3B4455;\n",
              "      fill: #D2E3FC;\n",
              "    }\n",
              "\n",
              "    [theme=dark] .colab-df-convert:hover {\n",
              "      background-color: #434B5C;\n",
              "      box-shadow: 0px 1px 3px 1px rgba(0, 0, 0, 0.15);\n",
              "      filter: drop-shadow(0px 1px 2px rgba(0, 0, 0, 0.3));\n",
              "      fill: #FFFFFF;\n",
              "    }\n",
              "  </style>\n",
              "\n",
              "    <script>\n",
              "      const buttonEl =\n",
              "        document.querySelector('#df-cb28eae6-1eeb-4c68-b8b3-853479e90a8a button.colab-df-convert');\n",
              "      buttonEl.style.display =\n",
              "        google.colab.kernel.accessAllowed ? 'block' : 'none';\n",
              "\n",
              "      async function convertToInteractive(key) {\n",
              "        const element = document.querySelector('#df-cb28eae6-1eeb-4c68-b8b3-853479e90a8a');\n",
              "        const dataTable =\n",
              "          await google.colab.kernel.invokeFunction('convertToInteractive',\n",
              "                                                    [key], {});\n",
              "        if (!dataTable) return;\n",
              "\n",
              "        const docLinkHtml = 'Like what you see? Visit the ' +\n",
              "          '<a target=\"_blank\" href=https://colab.research.google.com/notebooks/data_table.ipynb>data table notebook</a>'\n",
              "          + ' to learn more about interactive tables.';\n",
              "        element.innerHTML = '';\n",
              "        dataTable['output_type'] = 'display_data';\n",
              "        await google.colab.output.renderOutput(dataTable, element);\n",
              "        const docLink = document.createElement('div');\n",
              "        docLink.innerHTML = docLinkHtml;\n",
              "        element.appendChild(docLink);\n",
              "      }\n",
              "    </script>\n",
              "  </div>\n",
              "\n",
              "\n",
              "<div id=\"df-73ecdd92-4fb3-4ce2-8008-3834b4ccafe3\">\n",
              "  <button class=\"colab-df-quickchart\" onclick=\"quickchart('df-73ecdd92-4fb3-4ce2-8008-3834b4ccafe3')\"\n",
              "            title=\"Suggest charts\"\n",
              "            style=\"display:none;\">\n",
              "\n",
              "<svg xmlns=\"http://www.w3.org/2000/svg\" height=\"24px\"viewBox=\"0 0 24 24\"\n",
              "     width=\"24px\">\n",
              "    <g>\n",
              "        <path d=\"M19 3H5c-1.1 0-2 .9-2 2v14c0 1.1.9 2 2 2h14c1.1 0 2-.9 2-2V5c0-1.1-.9-2-2-2zM9 17H7v-7h2v7zm4 0h-2V7h2v10zm4 0h-2v-4h2v4z\"/>\n",
              "    </g>\n",
              "</svg>\n",
              "  </button>\n",
              "\n",
              "<style>\n",
              "  .colab-df-quickchart {\n",
              "      --bg-color: #E8F0FE;\n",
              "      --fill-color: #1967D2;\n",
              "      --hover-bg-color: #E2EBFA;\n",
              "      --hover-fill-color: #174EA6;\n",
              "      --disabled-fill-color: #AAA;\n",
              "      --disabled-bg-color: #DDD;\n",
              "  }\n",
              "\n",
              "  [theme=dark] .colab-df-quickchart {\n",
              "      --bg-color: #3B4455;\n",
              "      --fill-color: #D2E3FC;\n",
              "      --hover-bg-color: #434B5C;\n",
              "      --hover-fill-color: #FFFFFF;\n",
              "      --disabled-bg-color: #3B4455;\n",
              "      --disabled-fill-color: #666;\n",
              "  }\n",
              "\n",
              "  .colab-df-quickchart {\n",
              "    background-color: var(--bg-color);\n",
              "    border: none;\n",
              "    border-radius: 50%;\n",
              "    cursor: pointer;\n",
              "    display: none;\n",
              "    fill: var(--fill-color);\n",
              "    height: 32px;\n",
              "    padding: 0;\n",
              "    width: 32px;\n",
              "  }\n",
              "\n",
              "  .colab-df-quickchart:hover {\n",
              "    background-color: var(--hover-bg-color);\n",
              "    box-shadow: 0 1px 2px rgba(60, 64, 67, 0.3), 0 1px 3px 1px rgba(60, 64, 67, 0.15);\n",
              "    fill: var(--button-hover-fill-color);\n",
              "  }\n",
              "\n",
              "  .colab-df-quickchart-complete:disabled,\n",
              "  .colab-df-quickchart-complete:disabled:hover {\n",
              "    background-color: var(--disabled-bg-color);\n",
              "    fill: var(--disabled-fill-color);\n",
              "    box-shadow: none;\n",
              "  }\n",
              "\n",
              "  .colab-df-spinner {\n",
              "    border: 2px solid var(--fill-color);\n",
              "    border-color: transparent;\n",
              "    border-bottom-color: var(--fill-color);\n",
              "    animation:\n",
              "      spin 1s steps(1) infinite;\n",
              "  }\n",
              "\n",
              "  @keyframes spin {\n",
              "    0% {\n",
              "      border-color: transparent;\n",
              "      border-bottom-color: var(--fill-color);\n",
              "      border-left-color: var(--fill-color);\n",
              "    }\n",
              "    20% {\n",
              "      border-color: transparent;\n",
              "      border-left-color: var(--fill-color);\n",
              "      border-top-color: var(--fill-color);\n",
              "    }\n",
              "    30% {\n",
              "      border-color: transparent;\n",
              "      border-left-color: var(--fill-color);\n",
              "      border-top-color: var(--fill-color);\n",
              "      border-right-color: var(--fill-color);\n",
              "    }\n",
              "    40% {\n",
              "      border-color: transparent;\n",
              "      border-right-color: var(--fill-color);\n",
              "      border-top-color: var(--fill-color);\n",
              "    }\n",
              "    60% {\n",
              "      border-color: transparent;\n",
              "      border-right-color: var(--fill-color);\n",
              "    }\n",
              "    80% {\n",
              "      border-color: transparent;\n",
              "      border-right-color: var(--fill-color);\n",
              "      border-bottom-color: var(--fill-color);\n",
              "    }\n",
              "    90% {\n",
              "      border-color: transparent;\n",
              "      border-bottom-color: var(--fill-color);\n",
              "    }\n",
              "  }\n",
              "</style>\n",
              "\n",
              "  <script>\n",
              "    async function quickchart(key) {\n",
              "      const quickchartButtonEl =\n",
              "        document.querySelector('#' + key + ' button');\n",
              "      quickchartButtonEl.disabled = true;  // To prevent multiple clicks.\n",
              "      quickchartButtonEl.classList.add('colab-df-spinner');\n",
              "      try {\n",
              "        const charts = await google.colab.kernel.invokeFunction(\n",
              "            'suggestCharts', [key], {});\n",
              "      } catch (error) {\n",
              "        console.error('Error during call to suggestCharts:', error);\n",
              "      }\n",
              "      quickchartButtonEl.classList.remove('colab-df-spinner');\n",
              "      quickchartButtonEl.classList.add('colab-df-quickchart-complete');\n",
              "    }\n",
              "    (() => {\n",
              "      let quickchartButtonEl =\n",
              "        document.querySelector('#df-73ecdd92-4fb3-4ce2-8008-3834b4ccafe3 button');\n",
              "      quickchartButtonEl.style.display =\n",
              "        google.colab.kernel.accessAllowed ? 'block' : 'none';\n",
              "    })();\n",
              "  </script>\n",
              "</div>\n",
              "\n",
              "  <div id=\"id_ad0f4340-a729-4739-9116-d6e5a715ad54\">\n",
              "    <style>\n",
              "      .colab-df-generate {\n",
              "        background-color: #E8F0FE;\n",
              "        border: none;\n",
              "        border-radius: 50%;\n",
              "        cursor: pointer;\n",
              "        display: none;\n",
              "        fill: #1967D2;\n",
              "        height: 32px;\n",
              "        padding: 0 0 0 0;\n",
              "        width: 32px;\n",
              "      }\n",
              "\n",
              "      .colab-df-generate:hover {\n",
              "        background-color: #E2EBFA;\n",
              "        box-shadow: 0px 1px 2px rgba(60, 64, 67, 0.3), 0px 1px 3px 1px rgba(60, 64, 67, 0.15);\n",
              "        fill: #174EA6;\n",
              "      }\n",
              "\n",
              "      [theme=dark] .colab-df-generate {\n",
              "        background-color: #3B4455;\n",
              "        fill: #D2E3FC;\n",
              "      }\n",
              "\n",
              "      [theme=dark] .colab-df-generate:hover {\n",
              "        background-color: #434B5C;\n",
              "        box-shadow: 0px 1px 3px 1px rgba(0, 0, 0, 0.15);\n",
              "        filter: drop-shadow(0px 1px 2px rgba(0, 0, 0, 0.3));\n",
              "        fill: #FFFFFF;\n",
              "      }\n",
              "    </style>\n",
              "    <button class=\"colab-df-generate\" onclick=\"generateWithVariable('df')\"\n",
              "            title=\"Generate code using this dataframe.\"\n",
              "            style=\"display:none;\">\n",
              "\n",
              "  <svg xmlns=\"http://www.w3.org/2000/svg\" height=\"24px\"viewBox=\"0 0 24 24\"\n",
              "       width=\"24px\">\n",
              "    <path d=\"M7,19H8.4L18.45,9,17,7.55,7,17.6ZM5,21V16.75L18.45,3.32a2,2,0,0,1,2.83,0l1.4,1.43a1.91,1.91,0,0,1,.58,1.4,1.91,1.91,0,0,1-.58,1.4L9.25,21ZM18.45,9,17,7.55Zm-12,3A5.31,5.31,0,0,0,4.9,8.1,5.31,5.31,0,0,0,1,6.5,5.31,5.31,0,0,0,4.9,4.9,5.31,5.31,0,0,0,6.5,1,5.31,5.31,0,0,0,8.1,4.9,5.31,5.31,0,0,0,12,6.5,5.46,5.46,0,0,0,6.5,12Z\"/>\n",
              "  </svg>\n",
              "    </button>\n",
              "    <script>\n",
              "      (() => {\n",
              "      const buttonEl =\n",
              "        document.querySelector('#id_ad0f4340-a729-4739-9116-d6e5a715ad54 button.colab-df-generate');\n",
              "      buttonEl.style.display =\n",
              "        google.colab.kernel.accessAllowed ? 'block' : 'none';\n",
              "\n",
              "      buttonEl.onclick = () => {\n",
              "        google.colab.notebook.generateWithVariable('df');\n",
              "      }\n",
              "      })();\n",
              "    </script>\n",
              "  </div>\n",
              "\n",
              "    </div>\n",
              "  </div>\n"
            ]
          },
          "metadata": {},
          "execution_count": 17
        }
      ]
    },
    {
      "cell_type": "code",
      "source": [
        "df.shape\n"
      ],
      "metadata": {
        "colab": {
          "base_uri": "https://localhost:8080/"
        },
        "id": "lC8ybJqLne-i",
        "outputId": "138a188f-232f-4894-d3f3-90667559d279"
      },
      "execution_count": 10,
      "outputs": [
        {
          "output_type": "execute_result",
          "data": {
            "text/plain": [
              "(4622, 5)"
            ]
          },
          "metadata": {},
          "execution_count": 10
        }
      ]
    },
    {
      "cell_type": "markdown",
      "source": [
        " Display missing values"
      ],
      "metadata": {
        "id": "14zaQwGCorIg"
      }
    },
    {
      "cell_type": "code",
      "source": [
        "missing_values = df.isnull().sum()\n",
        "\n",
        "\n",
        "print(\"Missing values in each column:\")\n",
        "print(missing_values)"
      ],
      "metadata": {
        "colab": {
          "base_uri": "https://localhost:8080/"
        },
        "id": "DZ16CwlZoXSW",
        "outputId": "951c2ab5-3530-43d0-f0fd-75e3f617ba7e"
      },
      "execution_count": 19,
      "outputs": [
        {
          "output_type": "stream",
          "name": "stdout",
          "text": [
            "Missing values in each column:\n",
            "order_id                 0\n",
            "quantity                 0\n",
            "item_name                0\n",
            "choice_description    1246\n",
            "item_price               0\n",
            "dtype: int64\n"
          ]
        }
      ]
    },
    {
      "cell_type": "code",
      "source": [
        "df['choice_description'].fillna('No Description', inplace=True)\n"
      ],
      "metadata": {
        "id": "lOe_MOh-pCxw"
      },
      "execution_count": 21,
      "outputs": []
    },
    {
      "cell_type": "code",
      "source": [
        "data_types = df.dtypes\n",
        "print(\"Data types of each column:\")\n",
        "print(data_types)"
      ],
      "metadata": {
        "colab": {
          "base_uri": "https://localhost:8080/"
        },
        "id": "p4vlBR-spXrq",
        "outputId": "2b3c8ca0-14d0-42bc-c32d-7e18633540e0"
      },
      "execution_count": 22,
      "outputs": [
        {
          "output_type": "stream",
          "name": "stdout",
          "text": [
            "Data types of each column:\n",
            "order_id               int64\n",
            "quantity               int64\n",
            "item_name             object\n",
            "choice_description    object\n",
            "item_price            object\n",
            "dtype: object\n"
          ]
        }
      ]
    },
    {
      "cell_type": "code",
      "source": [
        "unique_values = df.nunique()\n",
        "print(\"\\nUnique values in each column:\")\n",
        "print(unique_values)"
      ],
      "metadata": {
        "colab": {
          "base_uri": "https://localhost:8080/"
        },
        "id": "u7IiARkZpbZC",
        "outputId": "a4ce4ad4-d655-43e6-8db5-ecc58ecf0ebf"
      },
      "execution_count": 23,
      "outputs": [
        {
          "output_type": "stream",
          "name": "stdout",
          "text": [
            "\n",
            "Unique values in each column:\n",
            "order_id              1834\n",
            "quantity                 9\n",
            "item_name               50\n",
            "choice_description    1044\n",
            "item_price              78\n",
            "dtype: int64\n"
          ]
        }
      ]
    },
    {
      "cell_type": "code",
      "source": [
        "df['quantity'] = df['quantity'].astype(int)\n"
      ],
      "metadata": {
        "id": "ElTlGEC0puVG"
      },
      "execution_count": 24,
      "outputs": []
    },
    {
      "cell_type": "code",
      "source": [
        "df['item_price'] = pd.to_numeric(df['item_price'].str.replace('$', ''), errors='coerce')\n"
      ],
      "metadata": {
        "colab": {
          "base_uri": "https://localhost:8080/"
        },
        "id": "BmkNb_gYpxWg",
        "outputId": "e8d9e747-d306-4aee-a37b-edd4c457fedc"
      },
      "execution_count": 26,
      "outputs": [
        {
          "output_type": "stream",
          "name": "stderr",
          "text": [
            "<ipython-input-26-f192e3e496a9>:1: FutureWarning: The default value of regex will change from True to False in a future version. In addition, single character regular expressions will *not* be treated as literal strings when regex=True.\n",
            "  df['item_price'] = pd.to_numeric(df['item_price'].str.replace('$', ''), errors='coerce')\n"
          ]
        }
      ]
    },
    {
      "cell_type": "code",
      "source": [
        "\n",
        "updated_data_types = df.dtypes\n",
        "print(\"Updated Data types of each column:\")\n",
        "print(updated_data_types)\n",
        "\n"
      ],
      "metadata": {
        "colab": {
          "base_uri": "https://localhost:8080/"
        },
        "id": "cvKSHMwgp4N2",
        "outputId": "871e665e-c240-48d0-933e-f370ee6ff64e"
      },
      "execution_count": 29,
      "outputs": [
        {
          "output_type": "stream",
          "name": "stdout",
          "text": [
            "Updated Data types of each column:\n",
            "order_id                int64\n",
            "quantity                int64\n",
            "item_name              object\n",
            "choice_description     object\n",
            "item_price            float64\n",
            "dtype: object\n"
          ]
        }
      ]
    },
    {
      "cell_type": "code",
      "source": [
        "# Identify duplicated rows\n",
        "duplicated_rows = df[df.duplicated()]\n",
        "print(\"Duplicated Rows:\")\n",
        "print(duplicated_rows)\n"
      ],
      "metadata": {
        "colab": {
          "base_uri": "https://localhost:8080/"
        },
        "id": "76Jxc7x6qJOS",
        "outputId": "b3c3fe80-b25b-4f42-e045-b9dd7fc51a73"
      },
      "execution_count": 31,
      "outputs": [
        {
          "output_type": "stream",
          "name": "stdout",
          "text": [
            "Duplicated Rows:\n",
            "      order_id  quantity                            item_name  \\\n",
            "238        103         1                        Steak Burrito   \n",
            "248        108         1                          Canned Soda   \n",
            "297        129         1                        Steak Burrito   \n",
            "381        165         1                    Canned Soft Drink   \n",
            "484        205         1                         Chicken Bowl   \n",
            "567        233         1                    Canned Soft Drink   \n",
            "617        254         1                                Chips   \n",
            "684        282         1                    Canned Soft Drink   \n",
            "773        319         1                         Chicken Bowl   \n",
            "908        376         1                        Steak Burrito   \n",
            "924        381         1                   Chicken Soft Tacos   \n",
            "1003       412         1                        Bottled Water   \n",
            "1117       462         1                      Chicken Burrito   \n",
            "1203       491         1                      Chicken Burrito   \n",
            "1245       507         1                    Canned Soft Drink   \n",
            "1381       561         1                    Canned Soft Drink   \n",
            "1410       573         1                        Bottled Water   \n",
            "1420       576         1                        Barbacoa Bowl   \n",
            "1421       576         1                  Barbacoa Salad Bowl   \n",
            "1502       610         1                      Chicken Burrito   \n",
            "1534       624         1  Chips and Tomatillo-Red Chili Salsa   \n",
            "1548       628         1                  Chips and Guacamole   \n",
            "1612       651         1                                 Izze   \n",
            "1791       724         1                    Canned Soft Drink   \n",
            "1792       724         1                    Canned Soft Drink   \n",
            "2078       838         1                   Chicken Soft Tacos   \n",
            "2127       856         1                      Chicken Burrito   \n",
            "2307       926         1                         Chicken Bowl   \n",
            "2318       926         1                         Chicken Bowl   \n",
            "2362       940         1                    Canned Soft Drink   \n",
            "2448       972         1                         Chicken Bowl   \n",
            "2553      1011         1                    Canned Soft Drink   \n",
            "2554      1011         1                    Canned Soft Drink   \n",
            "2560      1013         1                  Chips and Guacamole   \n",
            "2576      1020         1  Chips and Tomatillo Red Chili Salsa   \n",
            "2662      1057         1                   Chicken Soft Tacos   \n",
            "2708      1074         1                                Chips   \n",
            "2717      1078         1                         Chicken Bowl   \n",
            "2833      1125         1                      Chicken Burrito   \n",
            "2881      1144         1                        Bottled Water   \n",
            "2973      1182         1                         Chicken Bowl   \n",
            "2977      1184         1                           Steak Bowl   \n",
            "3121      1244         1                  Chips and Guacamole   \n",
            "3430      1377         1  Chips and Tomatillo Red Chili Salsa   \n",
            "3637      1454         1                   Chicken Soft Tacos   \n",
            "3716      1484         1                          Canned Soda   \n",
            "3764      1507         1                      Chicken Burrito   \n",
            "3829      1534         1                      Chicken Burrito   \n",
            "3924      1574         1                        Bottled Water   \n",
            "4112      1647         1                         Chicken Bowl   \n",
            "4155      1660         1                  Chips and Guacamole   \n",
            "4236      1691         1                         Chicken Bowl   \n",
            "4266      1701         1                                Chips   \n",
            "4372      1745         1                  Chips and Guacamole   \n",
            "4463      1778         1                    Canned Soft Drink   \n",
            "4479      1785         1                        Bottled Water   \n",
            "4544      1806         1                        Bottled Water   \n",
            "4570      1817         1                        Bottled Water   \n",
            "4603      1827         1                     Barbacoa Burrito   \n",
            "\n",
            "                                     choice_description  item_price  \n",
            "238   [Tomatillo Red Chili Salsa, [Rice, Black Beans...       11.75  \n",
            "248                                      [Mountain Dew]        1.09  \n",
            "297   [Tomatillo Green Chili Salsa, [Rice, Cheese, G...       11.75  \n",
            "381                                              [Coke]        1.25  \n",
            "484   [Fresh Tomato Salsa, [Fajita Vegetables, Rice,...        8.75  \n",
            "567                                         [Diet Coke]        1.25  \n",
            "617                                      No Description        2.15  \n",
            "684                                              [Coke]        1.25  \n",
            "773   [Tomatillo-Green Chili Salsa (Medium), Black B...        8.49  \n",
            "908   [Roasted Chili Corn Salsa (Medium), [Rice, Faj...        8.99  \n",
            "924           [Tomatillo-Red Chili Salsa (Hot), Cheese]        8.49  \n",
            "1003                                     No Description        1.50  \n",
            "1117  [Fresh Tomato Salsa, [Rice, Black Beans, Chees...       11.25  \n",
            "1203  [Fresh Tomato Salsa, [Cheese, Sour Cream, Lett...        8.75  \n",
            "1245                                         [Lemonade]        1.25  \n",
            "1381                                             [Coke]        1.25  \n",
            "1410                                     No Description        1.50  \n",
            "1420                         [Roasted Chili Corn Salsa]        9.25  \n",
            "1421                         [Roasted Chili Corn Salsa]        9.39  \n",
            "1502  [Fresh Tomato Salsa, [Fajita Vegetables, Rice,...        8.75  \n",
            "1534                                     No Description        2.39  \n",
            "1548                                     No Description        4.45  \n",
            "1612                                       [Blackberry]        3.39  \n",
            "1791                                             [Coke]        1.25  \n",
            "1792                                             [Coke]        1.25  \n",
            "2078  [Fresh Tomato Salsa, [Cheese, Sour Cream, Lett...        8.75  \n",
            "2127  [Fresh Tomato Salsa, [Rice, Black Beans, Chees...       11.25  \n",
            "2307  [Roasted Chili Corn Salsa, [Fajita Vegetables,...        8.75  \n",
            "2318  [Roasted Chili Corn Salsa, [Fajita Vegetables,...        8.75  \n",
            "2362                                             [Coke]        1.25  \n",
            "2448  [Tomatillo Red Chili Salsa, [Rice, Black Beans...        8.75  \n",
            "2553                                             [Coke]        1.25  \n",
            "2554                                             [Coke]        1.25  \n",
            "2560                                     No Description        4.45  \n",
            "2576                                     No Description        2.95  \n",
            "2662  [Tomatillo Red Chili Salsa, [Fajita Vegetables...       11.25  \n",
            "2708                                     No Description        2.15  \n",
            "2717  [Fresh Tomato Salsa, [Rice, Black Beans, Chees...       11.25  \n",
            "2833      [Fresh Tomato Salsa, [Rice, Cheese, Lettuce]]        8.75  \n",
            "2881                                     No Description        1.50  \n",
            "2973  [Tomatillo-Red Chili Salsa (Hot), [Rice, Black...        8.49  \n",
            "2977  [Fresh Tomato Salsa, [Rice, Pinto Beans, Chees...        9.25  \n",
            "3121                                     No Description        4.45  \n",
            "3430                                     No Description        2.95  \n",
            "3637                         [Fresh Tomato Salsa, Rice]        8.75  \n",
            "3716                                       [Dr. Pepper]        1.09  \n",
            "3764  [Fresh Tomato Salsa, [Rice, Black Beans, Chees...        8.75  \n",
            "3829  [Fresh Tomato Salsa, [Rice, Cheese, Sour Cream...        8.75  \n",
            "3924                                     No Description        1.50  \n",
            "4112  [Fresh Tomato Salsa, [Fajita Vegetables, Rice,...       11.25  \n",
            "4155                                     No Description        4.45  \n",
            "4236                                       [White Rice]        8.50  \n",
            "4266                                     No Description        2.15  \n",
            "4372                                     No Description        4.45  \n",
            "4463                                         [Lemonade]        1.25  \n",
            "4479                                     No Description        1.50  \n",
            "4544                                     No Description        1.50  \n",
            "4570                                     No Description        1.50  \n",
            "4603                      [Tomatillo Green Chili Salsa]        9.25  \n"
          ]
        }
      ]
    },
    {
      "cell_type": "markdown",
      "source": [
        "# Aggregate data"
      ],
      "metadata": {
        "id": "Bg5z-eLwqYvg"
      }
    },
    {
      "cell_type": "code",
      "source": [
        "\n",
        "aggregated_data = df.groupby(['order_id', 'item_name', 'choice_description', 'item_price'], as_index=False).agg({'quantity': 'sum'})\n"
      ],
      "metadata": {
        "id": "As_SzW3sqWYO"
      },
      "execution_count": 33,
      "outputs": []
    },
    {
      "cell_type": "code",
      "source": [
        "\n",
        "df.info()\n"
      ],
      "metadata": {
        "colab": {
          "base_uri": "https://localhost:8080/"
        },
        "id": "_KTb8-5eqjl-",
        "outputId": "fc2fbc53-d921-485b-ea9b-cf1eff682aef"
      },
      "execution_count": 35,
      "outputs": [
        {
          "output_type": "stream",
          "name": "stdout",
          "text": [
            "<class 'pandas.core.frame.DataFrame'>\n",
            "RangeIndex: 4622 entries, 0 to 4621\n",
            "Data columns (total 5 columns):\n",
            " #   Column              Non-Null Count  Dtype  \n",
            "---  ------              --------------  -----  \n",
            " 0   order_id            4622 non-null   int64  \n",
            " 1   quantity            4622 non-null   int64  \n",
            " 2   item_name           4622 non-null   object \n",
            " 3   choice_description  4622 non-null   object \n",
            " 4   item_price          4622 non-null   float64\n",
            "dtypes: float64(1), int64(2), object(2)\n",
            "memory usage: 180.7+ KB\n"
          ]
        }
      ]
    },
    {
      "cell_type": "code",
      "source": [
        "\n",
        "print(df[['quantity', 'item_price']].describe())\n"
      ],
      "metadata": {
        "colab": {
          "base_uri": "https://localhost:8080/"
        },
        "id": "_KRQOceQqvHx",
        "outputId": "61b5efa7-13d5-4089-f1ec-6ac1364bc3e3"
      },
      "execution_count": 36,
      "outputs": [
        {
          "output_type": "stream",
          "name": "stdout",
          "text": [
            "          quantity   item_price\n",
            "count  4622.000000  4622.000000\n",
            "mean      1.075725     7.464336\n",
            "std       0.410186     4.245557\n",
            "min       1.000000     1.090000\n",
            "25%       1.000000     3.390000\n",
            "50%       1.000000     8.750000\n",
            "75%       1.000000     9.250000\n",
            "max      15.000000    44.250000\n"
          ]
        }
      ]
    },
    {
      "cell_type": "code",
      "source": [
        "import matplotlib.pyplot as plt\n",
        "\n",
        "# Visualize 'Quantity' distribution\n",
        "df['quantity'].hist(bins=20)\n",
        "plt.title('Distribution of Quantity')\n",
        "plt.xlabel('Quantity')\n",
        "plt.ylabel('Frequency')\n",
        "plt.show()\n",
        "\n",
        "# Visualize 'Item Price' distribution\n",
        "df['item_price'].hist(bins=20)\n",
        "plt.title('Distribution of Item Price')\n",
        "plt.xlabel('Item Price')\n",
        "plt.ylabel('Frequency')\n",
        "plt.show()\n"
      ],
      "metadata": {
        "colab": {
          "base_uri": "https://localhost:8080/",
          "height": 927
        },
        "id": "MYAoPO0Mq8WN",
        "outputId": "52f1a245-86f4-4a96-acf6-404fd8cb00c6"
      },
      "execution_count": 39,
      "outputs": [
        {
          "output_type": "display_data",
          "data": {
            "text/plain": [
              "<Figure size 640x480 with 1 Axes>"
            ],
            "image/png": "[encoded data removed]"
          },
          "metadata": {}
        },
        {
          "output_type": "display_data",
          "data": {
            "text/plain": [
              "<Figure size 640x480 with 1 Axes>"
            ],
            "image/png": "[encoded data removed]"
          },
          "metadata": {}
        }
      ]
    },
    {
      "cell_type": "code",
      "source": [
        "\n",
        "df['order_id'] = df['order_id'].astype(str)\n",
        "\n",
        "\n",
        "duplicate_order_ids = df[df.duplicated(subset=['order_id'], keep=False)]\n",
        "print(\"Duplicate Order IDs:\")\n",
        "print(duplicate_order_ids[['order_id']])\n",
        "\n",
        "\n",
        "missing_order_ids = df[df['order_id'].isnull()]\n",
        "print(\"\\nMissing or Null Order IDs:\")\n",
        "print(missing_order_ids[['order_id']])\n",
        "\n",
        "\n",
        "invalid_order_ids = df[~df['order_id'].str.isnumeric()]\n",
        "print(\"\\nInvalid Order IDs:\")\n",
        "print(invalid_order_ids[['order_id']])\n",
        "\n",
        "\n",
        "unique_order_ids = df['order_id'].unique()\n",
        "print(\"\\nUnique Order IDs:\")\n",
        "print(unique_order_ids)\n"
      ],
      "metadata": {
        "colab": {
          "base_uri": "https://localhost:8080/"
        },
        "id": "9WeHzZvrsCT5",
        "outputId": "76fb798e-24f6-4105-f2ed-a75692693b8b"
      },
      "execution_count": 49,
      "outputs": [
        {
          "output_type": "stream",
          "name": "stdout",
          "text": [
            "Duplicate Order IDs:\n",
            "     order_id\n",
            "0           1\n",
            "1           1\n",
            "2           1\n",
            "3           1\n",
            "5           3\n",
            "...       ...\n",
            "4617     1833\n",
            "4618     1833\n",
            "4619     1834\n",
            "4620     1834\n",
            "4621     1834\n",
            "\n",
            "[4494 rows x 1 columns]\n",
            "\n",
            "Missing or Null Order IDs:\n",
            "Empty DataFrame\n",
            "Columns: [order_id]\n",
            "Index: []\n",
            "\n",
            "Invalid Order IDs:\n",
            "Empty DataFrame\n",
            "Columns: [order_id]\n",
            "Index: []\n",
            "\n",
            "Unique Order IDs:\n",
            "['1' '2' '3' ... '1832' '1833' '1834']\n"
          ]
        }
      ]
    },
    {
      "cell_type": "code",
      "source": [
        "\n",
        "unique_item_names = df['item_name'].unique()\n",
        "print(\"Unique Item Names:\")\n",
        "print(unique_item_names)\n"
      ],
      "metadata": {
        "colab": {
          "base_uri": "https://localhost:8080/"
        },
        "id": "Vv_PQ9jpsfxU",
        "outputId": "673b859a-d9f9-44c8-a22e-be9fbacbb0f7"
      },
      "execution_count": 51,
      "outputs": [
        {
          "output_type": "stream",
          "name": "stdout",
          "text": [
            "Unique Item Names:\n",
            "['Chips and Fresh Tomato Salsa' 'Izze' 'Nantucket Nectar'\n",
            " 'Chips and Tomatillo-Green Chili Salsa' 'Chicken Bowl' 'Side of Chips'\n",
            " 'Steak Burrito' 'Steak Soft Tacos' 'Chips and Guacamole'\n",
            " 'Chicken Crispy Tacos' 'Chicken Soft Tacos' 'Chicken Burrito'\n",
            " 'Canned Soda' 'Barbacoa Burrito' 'Carnitas Burrito' 'Carnitas Bowl'\n",
            " 'Bottled Water' 'Chips and Tomatillo Green Chili Salsa' 'Barbacoa Bowl'\n",
            " 'Chips' 'Chicken Salad Bowl' 'Steak Bowl' 'Barbacoa Soft Tacos'\n",
            " 'Veggie Burrito' 'Veggie Bowl' 'Steak Crispy Tacos'\n",
            " 'Chips and Tomatillo Red Chili Salsa' 'Barbacoa Crispy Tacos'\n",
            " 'Veggie Salad Bowl' 'Chips and Roasted Chili-Corn Salsa'\n",
            " 'Chips and Roasted Chili Corn Salsa' 'Carnitas Soft Tacos'\n",
            " 'Chicken Salad' 'Canned Soft Drink' 'Steak Salad Bowl'\n",
            " '6 Pack Soft Drink' 'Chips and Tomatillo-Red Chili Salsa' 'Bowl'\n",
            " 'Burrito' 'Crispy Tacos' 'Carnitas Crispy Tacos' 'Steak Salad'\n",
            " 'Chips and Mild Fresh Tomato Salsa' 'Veggie Soft Tacos'\n",
            " 'Carnitas Salad Bowl' 'Barbacoa Salad Bowl' 'Salad' 'Veggie Crispy Tacos'\n",
            " 'Veggie Salad' 'Carnitas Salad']\n"
          ]
        }
      ]
    },
    {
      "cell_type": "code",
      "source": [
        "df['item_name'] = df['item_name'].str.lower().str.strip()\n",
        "\n"
      ],
      "metadata": {
        "id": "D5v3RLPPsoUt"
      },
      "execution_count": 55,
      "outputs": []
    },
    {
      "cell_type": "code",
      "source": [
        "updated_unique_item_names = df['item_name'].unique()\n",
        "print(\"\\nUpdated Unique Item Names:\")\n",
        "print(updated_unique_item_names)\n",
        "\n"
      ],
      "metadata": {
        "colab": {
          "base_uri": "https://localhost:8080/"
        },
        "id": "-ui-hb0JsuOt",
        "outputId": "a86dceda-d5d0-4c54-c341-7ec99e586fd7"
      },
      "execution_count": 54,
      "outputs": [
        {
          "output_type": "stream",
          "name": "stdout",
          "text": [
            "\n",
            "Updated Unique Item Names:\n",
            "['chips and fresh tomato salsa' 'izze' 'nantucket nectar'\n",
            " 'chips and tomatillo-green chili salsa' 'chicken bowl' 'side of chips'\n",
            " 'steak burrito' 'steak soft tacos' 'chips and guacamole'\n",
            " 'chicken crispy tacos' 'chicken soft tacos' 'chicken burrito'\n",
            " 'canned soda' 'barbacoa burrito' 'carnitas burrito' 'carnitas bowl'\n",
            " 'bottled water' 'chips and tomatillo green chili salsa' 'barbacoa bowl'\n",
            " 'chips' 'chicken salad bowl' 'steak bowl' 'barbacoa soft tacos'\n",
            " 'veggie burrito' 'veggie bowl' 'steak crispy tacos'\n",
            " 'chips and tomatillo red chili salsa' 'barbacoa crispy tacos'\n",
            " 'veggie salad bowl' 'chips and roasted chili-corn salsa'\n",
            " 'chips and roasted chili corn salsa' 'carnitas soft tacos'\n",
            " 'chicken salad' 'canned soft drink' 'steak salad bowl'\n",
            " '6 pack soft drink' 'chips and tomatillo-red chili salsa' 'bowl'\n",
            " 'burrito' 'crispy tacos' 'carnitas crispy tacos' 'steak salad'\n",
            " 'chips and mild fresh tomato salsa' 'veggie soft tacos'\n",
            " 'carnitas salad bowl' 'barbacoa salad bowl' 'salad' 'veggie crispy tacos'\n",
            " 'veggie salad' 'carnitas salad']\n"
          ]
        }
      ]
    },
    {
      "cell_type": "code",
      "source": [
        "print(\"\\nSummary of 'Item Name' column:\")\n",
        "print(df['item_name'].value_counts())\n",
        "\n"
      ],
      "metadata": {
        "colab": {
          "base_uri": "https://localhost:8080/"
        },
        "id": "Z8wnGVU6s5mv",
        "outputId": "c4dcc1cf-7f9e-4bd0-930e-99169f5537a7"
      },
      "execution_count": 56,
      "outputs": [
        {
          "output_type": "stream",
          "name": "stdout",
          "text": [
            "\n",
            "Summary of 'Item Name' column:\n",
            "chicken bowl                             726\n",
            "chicken burrito                          553\n",
            "chips and guacamole                      479\n",
            "steak burrito                            368\n",
            "canned soft drink                        301\n",
            "steak bowl                               211\n",
            "chips                                    211\n",
            "bottled water                            162\n",
            "chicken soft tacos                       115\n",
            "chips and fresh tomato salsa             110\n",
            "chicken salad bowl                       110\n",
            "canned soda                              104\n",
            "side of chips                            101\n",
            "veggie burrito                            95\n",
            "barbacoa burrito                          91\n",
            "veggie bowl                               85\n",
            "carnitas bowl                             68\n",
            "barbacoa bowl                             66\n",
            "carnitas burrito                          59\n",
            "steak soft tacos                          55\n",
            "6 pack soft drink                         54\n",
            "chips and tomatillo red chili salsa       48\n",
            "chicken crispy tacos                      47\n",
            "chips and tomatillo green chili salsa     43\n",
            "carnitas soft tacos                       40\n",
            "steak crispy tacos                        35\n",
            "chips and tomatillo-green chili salsa     31\n",
            "steak salad bowl                          29\n",
            "nantucket nectar                          27\n",
            "barbacoa soft tacos                       25\n",
            "chips and roasted chili corn salsa        22\n",
            "izze                                      20\n",
            "chips and tomatillo-red chili salsa       20\n",
            "veggie salad bowl                         18\n",
            "chips and roasted chili-corn salsa        18\n",
            "barbacoa crispy tacos                     11\n",
            "barbacoa salad bowl                       10\n",
            "chicken salad                              9\n",
            "veggie soft tacos                          7\n",
            "carnitas crispy tacos                      7\n",
            "veggie salad                               6\n",
            "carnitas salad bowl                        6\n",
            "burrito                                    6\n",
            "steak salad                                4\n",
            "crispy tacos                               2\n",
            "salad                                      2\n",
            "bowl                                       2\n",
            "chips and mild fresh tomato salsa          1\n",
            "veggie crispy tacos                        1\n",
            "carnitas salad                             1\n",
            "Name: item_name, dtype: int64\n"
          ]
        }
      ]
    },
    {
      "cell_type": "markdown",
      "source": [
        "Data Integrity Check:"
      ],
      "metadata": {
        "id": "XeYnVs9xtFDE"
      }
    },
    {
      "cell_type": "code",
      "source": [
        "print(df.head())\n"
      ],
      "metadata": {
        "colab": {
          "base_uri": "https://localhost:8080/"
        },
        "id": "ITTNM9bYt18_",
        "outputId": "dd67e986-64d2-4be4-a3d1-ce63b3458fb3"
      },
      "execution_count": 64,
      "outputs": [
        {
          "output_type": "stream",
          "name": "stdout",
          "text": [
            "  order_id  quantity                              item_name  \\\n",
            "0        1         1           chips and fresh tomato salsa   \n",
            "1        1         1                                   izze   \n",
            "2        1         1                       nantucket nectar   \n",
            "3        1         1  chips and tomatillo-green chili salsa   \n",
            "4        2         2                           chicken bowl   \n",
            "\n",
            "                                  choice_description  item_price  \n",
            "0                                     No Description        2.39  \n",
            "1                                       [Clementine]        3.39  \n",
            "2                                            [Apple]        3.39  \n",
            "3                                     No Description        2.39  \n",
            "4  [Tomatillo-Red Chili Salsa (Hot), [Black Beans...       16.98  \n"
          ]
        }
      ]
    },
    {
      "cell_type": "code",
      "source": [
        "item_summary = df.groupby(['item_name', 'choice_description']).agg({\n",
        "    'quantity': 'sum',\n",
        "    'item_price': 'mean'\n",
        "}).reset_index()\n"
      ],
      "metadata": {
        "id": "ue_a_hUBt6Sc"
      },
      "execution_count": 66,
      "outputs": []
    },
    {
      "cell_type": "code",
      "source": [
        "print(item_summary.head())\n"
      ],
      "metadata": {
        "colab": {
          "base_uri": "https://localhost:8080/"
        },
        "id": "QUGefDJiuBiA",
        "outputId": "0126e427-b82a-4675-bb10-c08a8dd05cc9"
      },
      "execution_count": 67,
      "outputs": [
        {
          "output_type": "stream",
          "name": "stdout",
          "text": [
            "           item_name choice_description  quantity  item_price\n",
            "0  6 pack soft drink             [Coke]        21    6.490000\n",
            "1  6 pack soft drink        [Diet Coke]        25    6.760417\n",
            "2  6 pack soft drink         [Lemonade]         2    6.490000\n",
            "3  6 pack soft drink           [Nestea]         2    6.490000\n",
            "4  6 pack soft drink           [Sprite]         5    6.490000\n"
          ]
        }
      ]
    },
    {
      "cell_type": "code",
      "source": [
        "\n",
        "merged_data = pd.merge(df, item_summary, on=['item_name', 'choice_description'], suffixes=('_original', '_grouped'))\n",
        "\n",
        "\n",
        "discrepancies = merged_data[~((merged_data['quantity_original'] == merged_data['quantity_grouped']) & (merged_data['item_price_original'] == merged_data['item_price_grouped']))]\n",
        "print(\"Rows with quantity or price discrepancies:\")\n",
        "print(discrepancies[['item_name', 'choice_description', 'quantity_original', 'quantity_grouped', 'item_price_original', 'item_price_grouped']])\n"
      ],
      "metadata": {
        "colab": {
          "base_uri": "https://localhost:8080/"
        },
        "id": "puBNrdhYuFyM",
        "outputId": "5c45d83f-83ff-4bad-df00-406f1d70aea6"
      },
      "execution_count": 68,
      "outputs": [
        {
          "output_type": "stream",
          "name": "stdout",
          "text": [
            "Rows with quantity or price discrepancies:\n",
            "                         item_name  \\\n",
            "0     chips and fresh tomato salsa   \n",
            "1     chips and fresh tomato salsa   \n",
            "2     chips and fresh tomato salsa   \n",
            "3     chips and fresh tomato salsa   \n",
            "4     chips and fresh tomato salsa   \n",
            "...                            ...   \n",
            "4532                    steak bowl   \n",
            "4615              barbacoa burrito   \n",
            "4616              barbacoa burrito   \n",
            "4618                 steak burrito   \n",
            "4619                 steak burrito   \n",
            "\n",
            "                                     choice_description  quantity_original  \\\n",
            "0                                        No Description                  1   \n",
            "1                                        No Description                  1   \n",
            "2                                        No Description                  1   \n",
            "3                                        No Description                  1   \n",
            "4                                        No Description                  1   \n",
            "...                                                 ...                ...   \n",
            "4532  [Roasted Chili Corn Salsa, [Rice, Black Beans,...                  1   \n",
            "4615                      [Tomatillo Green Chili Salsa]                  1   \n",
            "4616                      [Tomatillo Green Chili Salsa]                  1   \n",
            "4618  [Fresh Tomato Salsa, [Rice, Sour Cream, Cheese...                  1   \n",
            "4619  [Fresh Tomato Salsa, [Rice, Sour Cream, Cheese...                  1   \n",
            "\n",
            "      quantity_grouped  item_price_original  item_price_grouped  \n",
            "0                  130                 2.39            3.285091  \n",
            "1                  130                 2.39            3.285091  \n",
            "2                  130                 2.39            3.285091  \n",
            "3                  130                 2.95            3.285091  \n",
            "4                  130                 2.95            3.285091  \n",
            "...                ...                  ...                 ...  \n",
            "4532                 2                11.75           11.750000  \n",
            "4615                 2                 9.25            9.250000  \n",
            "4616                 2                 9.25            9.250000  \n",
            "4618                 2                11.75           11.750000  \n",
            "4619                 2                11.75           11.750000  \n",
            "\n",
            "[3233 rows x 6 columns]\n"
          ]
        }
      ]
    },
    {
      "cell_type": "code",
      "source": [
        "df['quantity'] = df.groupby(['item_name', 'choice_description'])['quantity'].transform('sum')\n"
      ],
      "metadata": {
        "id": "7lAhqYdRuJ7b"
      },
      "execution_count": 70,
      "outputs": []
    },
    {
      "cell_type": "code",
      "source": [
        "csv_file_path = '/content/csv'\n",
        "\n",
        "df.to_csv(csv_file_path, index=False, sep=',')\n",
        "\n",
        "print(f\"Cleaned dataset has been saved to: {csv_file_path}\")"
      ],
      "metadata": {
        "colab": {
          "base_uri": "https://localhost:8080/"
        },
        "id": "9Cw8pmjBuSjS",
        "outputId": "1f6409b4-5116-4721-95f5-3f6ae6bcabf2"
      },
      "execution_count": 74,
      "outputs": [
        {
          "output_type": "stream",
          "name": "stdout",
          "text": [
            "Cleaned dataset has been saved to: /content/csv\n"
          ]
        }
      ]
    }
  ]
}