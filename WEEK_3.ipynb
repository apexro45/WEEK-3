{
  "nbformat": 4,
  "nbformat_minor": 0,
  "metadata": {
    "colab": {
      "provenance": []
    },
    "kernelspec": {
      "name": "python3",
      "display_name": "Python 3"
    },
    "language_info": {
      "name": "python"
    }
  },
  "cells": [
    {
      "cell_type": "code",
      "execution_count": 1,
      "metadata": {
        "id": "D9UEYbsWpSgG"
      },
      "outputs": [],
      "source": [
        "import pandas as pd\n"
      ]
    },
    {
      "cell_type": "code",
      "source": [
        "import numpy as np\n"
      ],
      "metadata": {
        "id": "--GISx9WqLK-"
      },
      "execution_count": null,
      "outputs": []
    },
    {
      "cell_type": "code",
      "source": [
        "from google.colab import files\n",
        "\n",
        "\n",
        "uploaded = files.upload()\n"
      ],
      "metadata": {
        "colab": {
          "base_uri": "https://localhost:8080/",
          "height": 38
        },
        "id": "mDAMHazSqQAz",
        "outputId": "770eee93-4923-4f9e-ffbd-be44519584e1"
      },
      "execution_count": null,
      "outputs": [
        {
          "output_type": "display_data",
          "data": {
            "text/plain": [
              "<IPython.core.display.HTML object>"
            ],
            "text/html": [
              "\n",
              "     <input type=\"file\" id=\"files-985447d1-f1ea-4465-90c5-3aa833a9d01d\" name=\"files[]\" multiple disabled\n",
              "        style=\"border:none\" />\n",
              "     <output id=\"result-985447d1-f1ea-4465-90c5-3aa833a9d01d\">\n",
              "      Upload widget is only available when the cell has been executed in the\n",
              "      current browser session. Please rerun this cell to enable.\n",
              "      </output>\n",
              "      <script>// Copyright 2017 Google LLC\n",
              "//\n",
              "// Licensed under the Apache License, Version 2.0 (the \"License\");\n",
              "// you may not use this file except in compliance with the License.\n",
              "// You may obtain a copy of the License at\n",
              "//\n",
              "//      http://www.apache.org/licenses/LICENSE-2.0\n",
              "//\n",
              "// Unless required by applicable law or agreed to in writing, software\n",
              "// distributed under the License is distributed on an \"AS IS\" BASIS,\n",
              "// WITHOUT WARRANTIES OR CONDITIONS OF ANY KIND, either express or implied.\n",
              "// See the License for the specific language governing permissions and\n",
              "// limitations under the License.\n",
              "\n",
              "/**\n",
              " * @fileoverview Helpers for google.colab Python module.\n",
              " */\n",
              "(function(scope) {\n",
              "function span(text, styleAttributes = {}) {\n",
              "  const element = document.createElement('span');\n",
              "  element.textContent = text;\n",
              "  for (const key of Object.keys(styleAttributes)) {\n",
              "    element.style[key] = styleAttributes[key];\n",
              "  }\n",
              "  return element;\n",
              "}\n",
              "\n",
              "// Max number of bytes which will be uploaded at a time.\n",
              "const MAX_PAYLOAD_SIZE = 100 * 1024;\n",
              "\n",
              "function _uploadFiles(inputId, outputId) {\n",
              "  const steps = uploadFilesStep(inputId, outputId);\n",
              "  const outputElement = document.getElementById(outputId);\n",
              "  // Cache steps on the outputElement to make it available for the next call\n",
              "  // to uploadFilesContinue from Python.\n",
              "  outputElement.steps = steps;\n",
              "\n",
              "  return _uploadFilesContinue(outputId);\n",
              "}\n",
              "\n",
              "// This is roughly an async generator (not supported in the browser yet),\n",
              "// where there are multiple asynchronous steps and the Python side is going\n",
              "// to poll for completion of each step.\n",
              "// This uses a Promise to block the python side on completion of each step,\n",
              "// then passes the result of the previous step as the input to the next step.\n",
              "function _uploadFilesContinue(outputId) {\n",
              "  const outputElement = document.getElementById(outputId);\n",
              "  const steps = outputElement.steps;\n",
              "\n",
              "  const next = steps.next(outputElement.lastPromiseValue);\n",
              "  return Promise.resolve(next.value.promise).then((value) => {\n",
              "    // Cache the last promise value to make it available to the next\n",
              "    // step of the generator.\n",
              "    outputElement.lastPromiseValue = value;\n",
              "    return next.value.response;\n",
              "  });\n",
              "}\n",
              "\n",
              "/**\n",
              " * Generator function which is called between each async step of the upload\n",
              " * process.\n",
              " * @param {string} inputId Element ID of the input file picker element.\n",
              " * @param {string} outputId Element ID of the output display.\n",
              " * @return {!Iterable<!Object>} Iterable of next steps.\n",
              " */\n",
              "function* uploadFilesStep(inputId, outputId) {\n",
              "  const inputElement = document.getElementById(inputId);\n",
              "  inputElement.disabled = false;\n",
              "\n",
              "  const outputElement = document.getElementById(outputId);\n",
              "  outputElement.innerHTML = '';\n",
              "\n",
              "  const pickedPromise = new Promise((resolve) => {\n",
              "    inputElement.addEventListener('change', (e) => {\n",
              "      resolve(e.target.files);\n",
              "    });\n",
              "  });\n",
              "\n",
              "  const cancel = document.createElement('button');\n",
              "  inputElement.parentElement.appendChild(cancel);\n",
              "  cancel.textContent = 'Cancel upload';\n",
              "  const cancelPromise = new Promise((resolve) => {\n",
              "    cancel.onclick = () => {\n",
              "      resolve(null);\n",
              "    };\n",
              "  });\n",
              "\n",
              "  // Wait for the user to pick the files.\n",
              "  const files = yield {\n",
              "    promise: Promise.race([pickedPromise, cancelPromise]),\n",
              "    response: {\n",
              "      action: 'starting',\n",
              "    }\n",
              "  };\n",
              "\n",
              "  cancel.remove();\n",
              "\n",
              "  // Disable the input element since further picks are not allowed.\n",
              "  inputElement.disabled = true;\n",
              "\n",
              "  if (!files) {\n",
              "    return {\n",
              "      response: {\n",
              "        action: 'complete',\n",
              "      }\n",
              "    };\n",
              "  }\n",
              "\n",
              "  for (const file of files) {\n",
              "    const li = document.createElement('li');\n",
              "    li.append(span(file.name, {fontWeight: 'bold'}));\n",
              "    li.append(span(\n",
              "        `(${file.type || 'n/a'}) - ${file.size} bytes, ` +\n",
              "        `last modified: ${\n",
              "            file.lastModifiedDate ? file.lastModifiedDate.toLocaleDateString() :\n",
              "                                    'n/a'} - `));\n",
              "    const percent = span('0% done');\n",
              "    li.appendChild(percent);\n",
              "\n",
              "    outputElement.appendChild(li);\n",
              "\n",
              "    const fileDataPromise = new Promise((resolve) => {\n",
              "      const reader = new FileReader();\n",
              "      reader.onload = (e) => {\n",
              "        resolve(e.target.result);\n",
              "      };\n",
              "      reader.readAsArrayBuffer(file);\n",
              "    });\n",
              "    // Wait for the data to be ready.\n",
              "    let fileData = yield {\n",
              "      promise: fileDataPromise,\n",
              "      response: {\n",
              "        action: 'continue',\n",
              "      }\n",
              "    };\n",
              "\n",
              "    // Use a chunked sending to avoid message size limits. See b/62115660.\n",
              "    let position = 0;\n",
              "    do {\n",
              "      const length = Math.min(fileData.byteLength - position, MAX_PAYLOAD_SIZE);\n",
              "      const chunk = new Uint8Array(fileData, position, length);\n",
              "      position += length;\n",
              "\n",
              "      const base64 = btoa(String.fromCharCode.apply(null, chunk));\n",
              "      yield {\n",
              "        response: {\n",
              "          action: 'append',\n",
              "          file: file.name,\n",
              "          data: base64,\n",
              "        },\n",
              "      };\n",
              "\n",
              "      let percentDone = fileData.byteLength === 0 ?\n",
              "          100 :\n",
              "          Math.round((position / fileData.byteLength) * 100);\n",
              "      percent.textContent = `${percentDone}% done`;\n",
              "\n",
              "    } while (position < fileData.byteLength);\n",
              "  }\n",
              "\n",
              "  // All done.\n",
              "  yield {\n",
              "    response: {\n",
              "      action: 'complete',\n",
              "    }\n",
              "  };\n",
              "}\n",
              "\n",
              "scope.google = scope.google || {};\n",
              "scope.google.colab = scope.google.colab || {};\n",
              "scope.google.colab._files = {\n",
              "  _uploadFiles,\n",
              "  _uploadFilesContinue,\n",
              "};\n",
              "})(self);\n",
              "</script> "
            ]
          },
          "metadata": {}
        }
      ]
    },
    {
      "cell_type": "code",
      "source": [
        "import io\n",
        "\n",
        "df = pd.read_csv(io.BytesIO(uploaded['Data-cleaning-for-beginners-using-pandas.csv']))\n",
        "print(df)"
      ],
      "metadata": {
        "colab": {
          "base_uri": "https://localhost:8080/"
        },
        "id": "ONZwAsq5rI23",
        "outputId": "7f2bdcd4-673c-46fb-d9fe-6094b42c3f93"
      },
      "execution_count": null,
      "outputs": [
        {
          "output_type": "stream",
          "name": "stdout",
          "text": [
            "    Index   Age      Salary  Rating       Location  Established Easy Apply\n",
            "0       0  44.0   $44k-$99k     5.4       India,In         1999       TRUE\n",
            "1       1  66.0   $55k-$66k     3.5    New York,Ny         2002       TRUE\n",
            "2       2   NaN   $77k-$89k    -1.0    New York,Ny           -1         -1\n",
            "3       3  64.0   $44k-$99k     4.4       India In         1988         -1\n",
            "4       4  25.0   $44k-$99k     6.4  Australia Aus         2002         -1\n",
            "5       5  44.0   $77k-$89k     1.4       India,In         1999       TRUE\n",
            "6       6  21.0   $44k-$99k     0.0    New York,Ny           -1         -1\n",
            "7       7  44.0   $44k-$99k    -1.0  Australia Aus           -1         -1\n",
            "8       8  35.0   $44k-$99k     5.4    New York,Ny           -1         -1\n",
            "9       9  22.0   $44k-$99k     7.7       India,In           -1       TRUE\n",
            "10     10  55.0   $10k-$49k     5.4       India,In         2008       TRUE\n",
            "11     11  44.0   $10k-$49k     6.7       India,In         2009         -1\n",
            "12     12   NaN   $44k-$99k     0.0       India,In         1999         -1\n",
            "13     13  25.0   $44k-$99k    -1.0  Australia Aus         2019       TRUE\n",
            "14     14  66.0   $44k-$99k     4.0  Australia Aus         2020       TRUE\n",
            "15     15  44.0  $88k-$101k     3.0  Australia Aus         1999         -1\n",
            "16     16  19.0   $19k-$40k     4.5       India,In         1984         -1\n",
            "17     17   NaN   $44k-$99k     5.3    New York,Ny         1943       TRUE\n",
            "18     18  35.0   $44k-$99k     6.7    New York,Ny         1954       TRUE\n",
            "19     19  32.0   $44k-$99k     3.3    New York,Ny         1955       TRUE\n",
            "20     20   NaN   $44k-$99k     5.7    New York,Ny         1944       TRUE\n",
            "21     21  35.0   $44k-$99k     5.0    New York,Ny         1946         -1\n",
            "22     22  19.0   $55k-$66k     7.8    New York,Ny         1988       TRUE\n",
            "23     23   NaN   $44k-$99k     2.4    New York,Ny         1999       TRUE\n",
            "24     24  13.0   $44k-$99k    -1.0    New York,Ny         1987         -1\n",
            "25     25  55.0   $44k-$99k     0.0  Australia Aus         1980       TRUE\n",
            "26     26   NaN   $55k-$66k     NaN       India,In         1934       TRUE\n",
            "27     27  52.0   $44k-$99k     5.4       India,In         1935         -1\n",
            "28     28   NaN   $39k-$88k     3.4  Australia Aus         1932         -1\n"
          ]
        }
      ]
    },
    {
      "cell_type": "code",
      "source": [
        "missing_values = df.isnull().sum()\n",
        "print(\"Missing Values:\")\n",
        "print(missing_values)"
      ],
      "metadata": {
        "colab": {
          "base_uri": "https://localhost:8080/"
        },
        "id": "saDTM5KDrl8z",
        "outputId": "ddff0adb-5d09-458f-9511-59b43ba325ce"
      },
      "execution_count": null,
      "outputs": [
        {
          "output_type": "stream",
          "name": "stdout",
          "text": [
            "Missing Values:\n",
            "Index          0\n",
            "Age            7\n",
            "Salary         0\n",
            "Rating         1\n",
            "Location       0\n",
            "Established    0\n",
            "Easy Apply     0\n",
            "dtype: int64\n"
          ]
        }
      ]
    },
    {
      "cell_type": "code",
      "source": [
        "df['Age'].fillna(df['Age'].mean(), inplace=True)\n",
        "df['Rating'].fillna(df['Rating'].mean(), inplace=True)"
      ],
      "metadata": {
        "id": "7AvIpGetr6tW"
      },
      "execution_count": null,
      "outputs": []
    },
    {
      "cell_type": "code",
      "source": [
        "print(\"After handling missing values:\")\n",
        "print(df.isnull().sum())"
      ],
      "metadata": {
        "colab": {
          "base_uri": "https://localhost:8080/"
        },
        "id": "vHCi5Ra8sG6e",
        "outputId": "a7ef1fbd-e2a9-4e6f-db68-86cbf416a56d"
      },
      "execution_count": null,
      "outputs": [
        {
          "output_type": "stream",
          "name": "stdout",
          "text": [
            "After handling missing values:\n",
            "Index          0\n",
            "Age            0\n",
            "Salary         0\n",
            "Rating         0\n",
            "Location       0\n",
            "Established    0\n",
            "Easy Apply     0\n",
            "dtype: int64\n"
          ]
        }
      ]
    },
    {
      "cell_type": "code",
      "source": [
        "\n",
        "df['Salary'] = pd.to_numeric(df['Salary'], errors='coerce')\n",
        "\n",
        "\n",
        "df['Established'] = pd.to_datetime(df['Established'], errors='coerce')\n",
        "\n",
        "\n",
        "df['Easy Apply'] = df['Easy Apply'].astype(bool)\n",
        "\n",
        "\n",
        "print(\"Data Types After Alignment:\")\n",
        "print(df.dtypes)\n"
      ],
      "metadata": {
        "colab": {
          "base_uri": "https://localhost:8080/"
        },
        "id": "EJ7ZBgAwsYIG",
        "outputId": "95984ea0-972e-4c4b-cec9-b6061fa79f50"
      },
      "execution_count": null,
      "outputs": [
        {
          "output_type": "stream",
          "name": "stdout",
          "text": [
            "Data Types After Alignment:\n",
            "Index                   int64\n",
            "Age                   float64\n",
            "Salary                float64\n",
            "Rating                float64\n",
            "Location               object\n",
            "Established    datetime64[ns]\n",
            "Easy Apply               bool\n",
            "dtype: object\n"
          ]
        }
      ]
    },
    {
      "cell_type": "code",
      "source": [
        "import seaborn as sns\n",
        "import matplotlib.pyplot as plt\n",
        "\n",
        "plt.figure(figsize=(12, 6))\n",
        "df = pd.read_csv(\"Data-cleaning-for-beginners-using-pandas.csv\")\n",
        "sns.boxplot(data = df[['Age', 'Salary', 'Rating']])\n",
        "plt.title(\"Box Plots for Numerical Indicators\")\n",
        "plt.show()\n"
      ],
      "metadata": {
        "colab": {
          "base_uri": "https://localhost:8080/",
          "height": 545
        },
        "id": "ipp8VK_xwgZG",
        "outputId": "502c207f-b815-46cb-932d-f15801e9bbba"
      },
      "execution_count": null,
      "outputs": [
        {
          "output_type": "display_data",
          "data": {
            "text/plain": [
              "<Figure size 1200x600 with 1 Axes>"
            ],
            "image/png": "[encoded data removed]"
          },
          "metadata": {}
        }
      ]
    },
    {
      "cell_type": "code",
      "source": [
        "\n",
        "\n",
        "\n",
        "data = {'Salary': ['$44k-$99k', '$55k-$66k', '$77k-$89k', '$44k-$99k', '$44k-$99k', '$77k-$89k', '$44k-$99k', '$44k-$99k', '$44k-$99k', '$44k-$99k', '$10k-$49k', '$10k-$49k', '$44k-$99k', '$44k-$99k', '$44k-$99k', '$88k-$101k', '$19k-$40k', '$44k-$99k', '$44k-$99k', '$44k-$99k', '$44k-$99k', '$44k-$99k', '$55k-$66k', '$44k-$99k', '$44k-$99k', '$44k-$99k', '$55k-$66k', '$44k-$99k', '$39k-$88k']}\n",
        "\n",
        "\n",
        "df = pd.read_csv(\"Data-cleaning-for-beginners-using-pandas.csv\")\n",
        "\n",
        "\n",
        "df[['Lower', 'Upper']] = df['Salary'].str.extract(r'\\$(\\d+)k-\\$(\\d+)k').astype(float)\n",
        "\n",
        "\n",
        "df['Median salary'] = ((df['Lower'] + df['Upper']) / 2) * 10000\n",
        "\n",
        "\n",
        "df = df[['Median salary']]\n",
        "\n",
        "\n",
        "df.to_csv('median_salary_data_in_10000s.csv', index=False)\n",
        "\n",
        "\n",
        "print(df)\n",
        "\n",
        "\n"
      ],
      "metadata": {
        "colab": {
          "base_uri": "https://localhost:8080/"
        },
        "id": "gE6RYnr9yxdk",
        "outputId": "a56e1858-bede-4b13-c3ff-a64e59e50499"
      },
      "execution_count": null,
      "outputs": [
        {
          "output_type": "stream",
          "name": "stdout",
          "text": [
            "    Median salary\n",
            "0        715000.0\n",
            "1        605000.0\n",
            "2        830000.0\n",
            "3        715000.0\n",
            "4        715000.0\n",
            "5        830000.0\n",
            "6        715000.0\n",
            "7        715000.0\n",
            "8        715000.0\n",
            "9        715000.0\n",
            "10       295000.0\n",
            "11       295000.0\n",
            "12       715000.0\n",
            "13       715000.0\n",
            "14       715000.0\n",
            "15       945000.0\n",
            "16       295000.0\n",
            "17       715000.0\n",
            "18       715000.0\n",
            "19       715000.0\n",
            "20       715000.0\n",
            "21       715000.0\n",
            "22       605000.0\n",
            "23       715000.0\n",
            "24       715000.0\n",
            "25       715000.0\n",
            "26       605000.0\n",
            "27       715000.0\n",
            "28       635000.0\n"
          ]
        }
      ]
    },
    {
      "source": [
        "if 'Median salary' in df.columns:\n",
        "    median_salary = df['Median salary'].median()\n",
        "    df['Median salary'] = df['Median salary'].apply(lambda x: median_salary if x < 0 or x > 1000000 else x)"
      ],
      "cell_type": "code",
      "metadata": {
        "id": "aVClokGD7ykx"
      },
      "execution_count": null,
      "outputs": []
    },
    {
      "cell_type": "code",
      "source": [
        "\n",
        "median_rating = df['Rating'].median()\n",
        "df['Rating'] = df['Rating'].apply(lambda x: median_rating if x < 0 or x > 5 else x)\n"
      ],
      "metadata": {
        "id": "Iag5Dh618DGA"
      },
      "execution_count": null,
      "outputs": []
    },
    {
      "cell_type": "code",
      "source": [
        "\n",
        "\n",
        "\n",
        "df = pd.read_csv('Data-cleaning-for-beginners-using-pandas.csv')\n",
        "\n",
        "\n",
        "unique_locations = df['Location'].unique()\n",
        "print(\"Unique Locations:\")\n",
        "print(unique_locations)\n",
        "\n",
        "\n",
        "df['Location'] = df['Location'].str.split(',').str[0].str.lower()\n",
        "df['Location'] = df['Location'].apply(lambda x: ' '.join([word for word in x.split() if word in ['india', 'australia', 'new', 'york']]))\n",
        "\n",
        "\n",
        "print(\"\\nDataFrame with Standardized Location Entries:\")\n",
        "print(df[['Location']])\n",
        "\n",
        "df.to_csv('standardized_location_data.csv', index=False)\n"
      ],
      "metadata": {
        "colab": {
          "base_uri": "https://localhost:8080/"
        },
        "id": "pfeiJwtP8NaI",
        "outputId": "371f1a61-50d1-4061-90f8-505ebccd8e0e"
      },
      "execution_count": null,
      "outputs": [
        {
          "output_type": "stream",
          "name": "stdout",
          "text": [
            "Unique Locations:\n",
            "['India,In' 'New York,Ny' 'India In' 'Australia Aus']\n",
            "\n",
            "DataFrame with Standardized Location Entries:\n",
            "     Location\n",
            "0       india\n",
            "1    new york\n",
            "2    new york\n",
            "3       india\n",
            "4   australia\n",
            "5       india\n",
            "6    new york\n",
            "7   australia\n",
            "8    new york\n",
            "9       india\n",
            "10      india\n",
            "11      india\n",
            "12      india\n",
            "13  australia\n",
            "14  australia\n",
            "15  australia\n",
            "16      india\n",
            "17   new york\n",
            "18   new york\n",
            "19   new york\n",
            "20   new york\n",
            "21   new york\n",
            "22   new york\n",
            "23   new york\n",
            "24   new york\n",
            "25  australia\n",
            "26      india\n",
            "27      india\n",
            "28  australia\n"
          ]
        }
      ]
    },
    {
      "cell_type": "code",
      "source": [
        "\n",
        "import random\n",
        "df = pd.read_csv(io.BytesIO(uploaded['Data-cleaning-for-beginners-using-pandas.csv']))\n",
        "\n",
        "df['Established'] = pd.to_numeric(df['Established'], errors='coerce')\n",
        "\n",
        "def replace_negative_with_random_year(x):\n",
        "    if pd.isna(x) or x < 0:\n",
        "        return random.randint(1900, 2022)\n",
        "    else:\n",
        "        return x\n",
        "\n",
        "df['Established'] = df['Established'].apply(replace_negative_with_random_year)\n",
        "\n",
        "\n",
        "print(\"\\nDataFrame after Addressing Inconsistencies and Filling with Random Years:\")\n",
        "print(df[['Established']])\n",
        "\n"
      ],
      "metadata": {
        "colab": {
          "base_uri": "https://localhost:8080/"
        },
        "id": "xKzaSOhM-9Ck",
        "outputId": "1cd098be-3da6-4950-c7c7-3fa0d7c57b96"
      },
      "execution_count": null,
      "outputs": [
        {
          "output_type": "stream",
          "name": "stdout",
          "text": [
            "\n",
            "DataFrame after Addressing Inconsistencies and Filling with Random Years:\n",
            "    Established\n",
            "0          1999\n",
            "1          2002\n",
            "2          1912\n",
            "3          1988\n",
            "4          2002\n",
            "5          1999\n",
            "6          1969\n",
            "7          1970\n",
            "8          1931\n",
            "9          1977\n",
            "10         2008\n",
            "11         2009\n",
            "12         1999\n",
            "13         2019\n",
            "14         2020\n",
            "15         1999\n",
            "16         1984\n",
            "17         1943\n",
            "18         1954\n",
            "19         1955\n",
            "20         1944\n",
            "21         1946\n",
            "22         1988\n",
            "23         1999\n",
            "24         1987\n",
            "25         1980\n",
            "26         1934\n",
            "27         1935\n",
            "28         1932\n"
          ]
        }
      ]
    },
    {
      "cell_type": "code",
      "source": [
        "\n",
        "import random\n",
        "\n",
        "\n",
        "df['Rating'] = df['Rating'].replace(-1.0, np.nan)\n",
        "\n",
        "\n",
        "df['Rating'] = pd.to_numeric(df['Rating'], errors='coerce')\n",
        "\n",
        "\n",
        "def generate_random_rating():\n",
        "    return round(random.uniform(1, 10), 1)  # Adjust the range as needed\n",
        "\n",
        "\n",
        "df['Rating'].fillna(generate_random_rating(), inplace=True)\n",
        "\n",
        "\n",
        "print(\"\\nDataFrame after Handling Invalid Values and Filling with Random Ratings:\")\n",
        "print(df[['Rating']])\n"
      ],
      "metadata": {
        "colab": {
          "base_uri": "https://localhost:8080/"
        },
        "id": "qEhBpf_DBRwz",
        "outputId": "376bea2f-d72d-45be-acf2-0e91c76d0733"
      },
      "execution_count": null,
      "outputs": [
        {
          "output_type": "stream",
          "name": "stdout",
          "text": [
            "\n",
            "DataFrame after Handling Invalid Values and Filling with Random Ratings:\n",
            "    Rating\n",
            "0      5.4\n",
            "1      3.5\n",
            "2      4.6\n",
            "3      4.4\n",
            "4      6.4\n",
            "5      1.4\n",
            "6      0.0\n",
            "7      4.6\n",
            "8      5.4\n",
            "9      7.7\n",
            "10     5.4\n",
            "11     6.7\n",
            "12     0.0\n",
            "13     4.6\n",
            "14     4.0\n",
            "15     3.0\n",
            "16     4.5\n",
            "17     5.3\n",
            "18     6.7\n",
            "19     3.3\n",
            "20     5.7\n",
            "21     5.0\n",
            "22     7.8\n",
            "23     2.4\n",
            "24     4.6\n",
            "25     0.0\n",
            "26     4.6\n",
            "27     5.4\n",
            "28     3.4\n"
          ]
        }
      ]
    },
    {
      "cell_type": "code",
      "source": [
        "print(df[['Age']])"
      ],
      "metadata": {
        "colab": {
          "base_uri": "https://localhost:8080/"
        },
        "id": "f8H516pVGSE-",
        "outputId": "6d871458-3761-4cc1-b9b0-d35afb23a58f"
      },
      "execution_count": null,
      "outputs": [
        {
          "output_type": "stream",
          "name": "stdout",
          "text": [
            "     Age\n",
            "0   44.0\n",
            "1   66.0\n",
            "2    NaN\n",
            "3   64.0\n",
            "4   25.0\n",
            "5   44.0\n",
            "6   21.0\n",
            "7   44.0\n",
            "8   35.0\n",
            "9   22.0\n",
            "10  55.0\n",
            "11  44.0\n",
            "12   NaN\n",
            "13  25.0\n",
            "14  66.0\n",
            "15  44.0\n",
            "16  19.0\n",
            "17   NaN\n",
            "18  35.0\n",
            "19  32.0\n",
            "20   NaN\n",
            "21  35.0\n",
            "22  19.0\n",
            "23   NaN\n",
            "24  13.0\n",
            "25  55.0\n",
            "26   NaN\n",
            "27  52.0\n",
            "28   NaN\n"
          ]
        }
      ]
    },
    {
      "cell_type": "code",
      "source": [
        "import pandas as pd\n",
        "import numpy as np\n",
        "import matplotlib.pyplot as plt\n",
        "import random\n",
        "\n",
        "# Assuming your dataset is stored in a DataFrame named 'df'\n",
        "# Display summary statistics of the 'Age' column before filling NaN values\n",
        "print(\"Summary Statistics of 'Age' column before filling NaN:\")\n",
        "print(df['Age'].describe())\n",
        "\n",
        "# Function to generate a random age\n",
        "def generate_random_age():\n",
        "    return round(random.uniform(18, 65), 1)  # Adjust the age range as needed\n",
        "\n",
        "# Fill NaN values in 'Age' with random ages\n",
        "df['Age'].fillna(generate_random_age(), inplace=True)\n",
        "\n",
        "# Display summary statistics of the 'Age' column after filling NaN values\n",
        "print(\"\\nSummary Statistics of 'Age' column after filling NaN:\")\n",
        "print(df['Age'].describe())\n",
        "\n",
        "# Create a histogram to visualize the distribution\n",
        "plt.figure(figsize=(8, 5))\n",
        "plt.hist(df['Age'], bins=20, color='skyblue', edgecolor='black')\n",
        "plt.title('Distribution of Age after filling NaN')\n",
        "plt.xlabel('Age')\n",
        "plt.ylabel('Frequency')\n",
        "plt.show()\n"
      ],
      "metadata": {
        "colab": {
          "base_uri": "https://localhost:8080/",
          "height": 862
        },
        "id": "rn6igzm1Ggsg",
        "outputId": "f6f0ea15-cfaa-483e-ce83-c45bd8b3bfc9"
      },
      "execution_count": null,
      "outputs": [
        {
          "output_type": "stream",
          "name": "stdout",
          "text": [
            "Summary Statistics of 'Age' column before filling NaN:\n",
            "count    22.000000\n",
            "mean     39.045455\n",
            "std      16.134781\n",
            "min      13.000000\n",
            "25%      25.000000\n",
            "50%      39.500000\n",
            "75%      50.000000\n",
            "max      66.000000\n",
            "Name: Age, dtype: float64\n",
            "\n",
            "Summary Statistics of 'Age' column after filling NaN:\n",
            "count    29.000000\n",
            "mean     38.262069\n",
            "std      14.044430\n",
            "min      13.000000\n",
            "25%      32.000000\n",
            "50%      35.800000\n",
            "75%      44.000000\n",
            "max      66.000000\n",
            "Name: Age, dtype: float64\n"
          ]
        },
        {
          "output_type": "display_data",
          "data": {
            "text/plain": [
              "<Figure size 800x500 with 1 Axes>"
            ],
            "image/png": "[encoded data removed]"
          },
          "metadata": {}
        }
      ]
    },
    {
      "cell_type": "code",
      "source": [
        "# Assuming your dataset is stored in a DataFrame named 'df'\n",
        "# Check for consistency between 'Established' and 'Age' columns\n",
        "inconsistent_entries = df[df['Established'].notna() & df['Age'].notna() & (df['Established'] > df['Age'])]\n",
        "\n",
        "# Display inconsistent entries\n",
        "print(\"Inconsistent Entries between 'Established' and 'Age':\")\n",
        "print(inconsistent_entries[['Established', 'Age']])\n"
      ],
      "metadata": {
        "colab": {
          "base_uri": "https://localhost:8080/"
        },
        "id": "PoBIbs0IJS1h",
        "outputId": "c90b6b58-9e49-4806-c072-2af2f3936720"
      },
      "execution_count": null,
      "outputs": [
        {
          "output_type": "stream",
          "name": "stdout",
          "text": [
            "Inconsistent Entries between 'Established' and 'Age':\n",
            "    Established   Age\n",
            "0          1999  44.0\n",
            "1          2002  66.0\n",
            "2          1912  35.8\n",
            "3          1988  64.0\n",
            "4          2002  25.0\n",
            "5          1999  44.0\n",
            "6          1969  21.0\n",
            "7          1970  44.0\n",
            "8          1931  35.0\n",
            "9          1977  22.0\n",
            "10         2008  55.0\n",
            "11         2009  44.0\n",
            "12         1999  35.8\n",
            "13         2019  25.0\n",
            "14         2020  66.0\n",
            "15         1999  44.0\n",
            "16         1984  19.0\n",
            "17         1943  35.8\n",
            "18         1954  35.0\n",
            "19         1955  32.0\n",
            "20         1944  35.8\n",
            "21         1946  35.0\n",
            "22         1988  19.0\n",
            "23         1999  35.8\n",
            "24         1987  13.0\n",
            "25         1980  55.0\n",
            "26         1934  35.8\n",
            "27         1935  52.0\n",
            "28         1932  35.8\n"
          ]
        }
      ]
    },
    {
      "cell_type": "code",
      "source": [
        "print(df[['Easy Apply']])"
      ],
      "metadata": {
        "colab": {
          "base_uri": "https://localhost:8080/"
        },
        "id": "3_jjYAUrVR86",
        "outputId": "1cca1cb1-d8c2-406d-b17e-872e4c0b037b"
      },
      "execution_count": null,
      "outputs": [
        {
          "output_type": "stream",
          "name": "stdout",
          "text": [
            "   Easy Apply\n",
            "0        TRUE\n",
            "1        TRUE\n",
            "2          -1\n",
            "3          -1\n",
            "4          -1\n",
            "5        TRUE\n",
            "6          -1\n",
            "7          -1\n",
            "8          -1\n",
            "9        TRUE\n",
            "10       TRUE\n",
            "11         -1\n",
            "12         -1\n",
            "13       TRUE\n",
            "14       TRUE\n",
            "15         -1\n",
            "16         -1\n",
            "17       TRUE\n",
            "18       TRUE\n",
            "19       TRUE\n",
            "20       TRUE\n",
            "21         -1\n",
            "22       TRUE\n",
            "23       TRUE\n",
            "24         -1\n",
            "25       TRUE\n",
            "26       TRUE\n",
            "27         -1\n",
            "28         -1\n"
          ]
        }
      ]
    },
    {
      "cell_type": "code",
      "source": [
        "\n",
        "import random\n",
        "\n",
        "\n",
        "data = {'Easy Apply': ['TRUE', 'TRUE', -1, -1, -1, 'TRUE', -1, -1, -1, 'TRUE', 'TRUE', -1, -1, 'TRUE', 'TRUE', -1, -1, 'TRUE', 'TRUE', 'TRUE', 'TRUE', -1, 'TRUE', 'TRUE', -1, 'TRUE', 'TRUE', -1, -1]}\n",
        "df = pd.DataFrame(data)\n",
        "\n",
        "\n",
        "df['Easy Apply'] = df['Easy Apply'].apply(lambda x: random.choice([True, False]) if x == -1 else x)\n",
        "\n",
        "\n",
        "print(df)\n",
        "\n",
        "\n"
      ],
      "metadata": {
        "colab": {
          "base_uri": "https://localhost:8080/"
        },
        "id": "SteEg1VrWlIE",
        "outputId": "7bb13cf8-f336-4b94-9b27-9c74783ff667"
      },
      "execution_count": null,
      "outputs": [
        {
          "output_type": "stream",
          "name": "stdout",
          "text": [
            "   Easy Apply\n",
            "0        TRUE\n",
            "1        TRUE\n",
            "2        True\n",
            "3       False\n",
            "4       False\n",
            "5        TRUE\n",
            "6        True\n",
            "7       False\n",
            "8       False\n",
            "9        TRUE\n",
            "10       TRUE\n",
            "11      False\n",
            "12      False\n",
            "13       TRUE\n",
            "14       TRUE\n",
            "15      False\n",
            "16       True\n",
            "17       TRUE\n",
            "18       TRUE\n",
            "19       TRUE\n",
            "20       TRUE\n",
            "21       True\n",
            "22       TRUE\n",
            "23       TRUE\n",
            "24      False\n",
            "25       TRUE\n",
            "26       TRUE\n",
            "27      False\n",
            "28      False\n"
          ]
        }
      ]
    }
  ]
}